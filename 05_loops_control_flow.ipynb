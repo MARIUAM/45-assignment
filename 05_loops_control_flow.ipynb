{
  "nbformat": 4,
  "nbformat_minor": 0,
  "metadata": {
    "colab": {
      "provenance": [],
      "authorship_tag": "ABX9TyPiBC+VEssNx0mWKfXLr/kx",
      "include_colab_link": true
    },
    "kernelspec": {
      "name": "python3",
      "display_name": "Python 3"
    },
    "language_info": {
      "name": "python"
    }
  },
  "cells": [
    {
      "cell_type": "markdown",
      "metadata": {
        "id": "view-in-github",
        "colab_type": "text"
      },
      "source": [
        "<a href=\"https://colab.research.google.com/github/MARIUAM/45-assignment/blob/main/05_loops_control_flow.ipynb\" target=\"_parent\"><img src=\"https://colab.research.google.com/assets/colab-badge.svg\" alt=\"Open In Colab\"/></a>"
      ]
    },
    {
      "cell_type": "code",
      "execution_count": null,
      "metadata": {
        "colab": {
          "base_uri": "https://localhost:8080/"
        },
        "id": "DOl85ngTor4I",
        "outputId": "80e9a901-cdf7-46b5-ce9e-21139583a3ec"
      },
      "outputs": [
        {
          "output_type": "stream",
          "name": "stdout",
          "text": [
            "I am thinking of a number between 0 and 99... Try to guess it!\n",
            "Enter a guess: 90\n",
            "Your guess is too high\n",
            "Enter a guess: 88\n",
            "Your guess is too high\n",
            "Enter a guess: 55\n",
            "Your guess is too high\n",
            "Enter a guess: 33\n",
            "Your guess is too low\n",
            "Enter a guess: 45\n",
            "Your guess is too high\n",
            "Enter a guess: 40\n",
            "Your guess is too low\n",
            "Enter a guess: 42\n",
            "Congrats! The number was: 42\n",
            "It took you 7 attempts to guess the number.\n"
          ]
        }
      ],
      "source": [
        "#00_guess_my_number\n",
        "\"\"\"Problem Statement\n",
        "Guess My Number\n",
        "\n",
        "I am thinking of a number between 0 and 99... Enter a guess: 50 Your guess is too high\n",
        "\n",
        "Enter a new number: 25 Your guess is too low\n",
        "\n",
        "Enter a new number: 40 Your guess is too low\n",
        "\n",
        "Enter a new number: 45 Your guess is too low\n",
        "\n",
        "Enter a new number: 48 Congrats! The number was: 48\"\"\"\n",
        "\n",
        "\n",
        "import random\n",
        "\n",
        "def main():\n",
        "    # The program picks a random number between 0 and 99\n",
        "    secret_number = random.randint(0, 99)\n",
        "\n",
        "    # Variable to track the number of attempts\n",
        "    attempts = 0\n",
        "\n",
        "    print(\"I am thinking of a number between 0 and 99... Try to guess it!\")\n",
        "\n",
        "    while True:\n",
        "        # Prompt the user to enter a guess\n",
        "        guess = int(input(\"Enter a guess: \"))\n",
        "        attempts += 1  # Increment attempt count\n",
        "\n",
        "        # Check if the guess is too high, too low, or correct\n",
        "        if guess > secret_number:\n",
        "            print(\"Your guess is too high\")\n",
        "        elif guess < secret_number:\n",
        "            print(\"Your guess is too low\")\n",
        "        else:\n",
        "            print(f\"Congrats! The number was: {secret_number}\")\n",
        "            print(f\"It took you {attempts} attempts to guess the number.\")\n",
        "            break  # Exit the loop if the guess is correct\n",
        "\n",
        "if __name__ == '__main__':\n",
        "    main()\n",
        "\n",
        "\n",
        "\n"
      ]
    },
    {
      "cell_type": "code",
      "source": [
        "#01_fibonacci\n",
        "\n",
        "\"\"\"Problem Statement\n",
        "Write a program to print terms in the Fibonacci sequence up to a maximum value.\n",
        "\n",
        "In the 13th century, the Italian mathematician Leonardo Fibonacci, as a way to explain the geometric growth of a population of rabbits, devised a mathematical sequence that now bears his name. The first two terms in this sequence, Fib(0) and Fib(1), are 0 and 1, and every subsequent term is the sum of the preceding two. Thus, the first several terms in the Fibonacci sequence look like this:\n",
        "\n",
        "Fib(0) = 0 Fib(1) = 1 Fib(2) = 1 = 0 + 1 Fib(3) = 2 = 1 + 1 Fib(4) = 3 = 1 + 2 Fib(5) = 5 = 2 + 3\n",
        "\n",
        "Write a program that displays the terms in the Fibonacci sequence, starting with Fib(0) and continuing as long as the terms are less than 10,000 (you should store this value as a constant!). Thus, your program should produce the following sample run:\n",
        "\n",
        "0 1 1 2 3 5 8 13 21 34 55 89 144 233 377 610 987 1597 2584 4181 6765 \"\"\"\n",
        "\n",
        "\n",
        "\n",
        "\n",
        "\n",
        "\n",
        "def main():\n",
        "    MAX_VALUE = 10000  # Constant for maximum value\n",
        "    a, b = 0, 1         # Start with Fib(0)=0 and Fib(1)=1\n",
        "\n",
        "    while a < MAX_VALUE:\n",
        "        print(a, end=\" \")  # Print current term\n",
        "        a, b = b, a + b     # Move to next term\n",
        "\n",
        "if __name__ == '__main__':\n",
        "    main()\n",
        "\n"
      ],
      "metadata": {
        "colab": {
          "base_uri": "https://localhost:8080/"
        },
        "id": "_bkn8kS4wvVR",
        "outputId": "b26014cb-67dc-4054-8119-579739d63bf0"
      },
      "execution_count": null,
      "outputs": [
        {
          "output_type": "stream",
          "name": "stdout",
          "text": [
            "0 1 1 2 3 5 8 13 21 34 55 89 144 233 377 610 987 1597 2584 4181 6765 "
          ]
        }
      ]
    },
    {
      "cell_type": "code",
      "source": [
        "#02_print_events\n",
        "\n",
        "\n",
        "\"\"\"Problem Statement\n",
        "Write a program that prints the first 20 even numbers. There are several correct approaches, but they all use a loop of some sort. Do no write twenty print statements\n",
        "\n",
        "The first even number is 0:\n",
        "\n",
        "0 2 4 6 8 10 12 14 16 18 20 22 24 26 28 30 32 34 36 38 \"\"\"\n",
        "\n",
        "\n",
        "\n",
        "def main():\n",
        "    count = 0\n",
        "    number = 0\n",
        "\n",
        "    while count < 20:\n",
        "        print(number, end=\" \")\n",
        "        number += 2   # agla even number\n",
        "        count += 1    # count barhao\n",
        "\n",
        "if __name__ == '__main__':\n",
        "    main()\n"
      ],
      "metadata": {
        "colab": {
          "base_uri": "https://localhost:8080/"
        },
        "id": "x60dg6oBxOsq",
        "outputId": "a6618cb4-0b43-400d-db72-6af95e594b1f"
      },
      "execution_count": null,
      "outputs": [
        {
          "output_type": "stream",
          "name": "stdout",
          "text": [
            "0 2 4 6 8 10 12 14 16 18 20 22 24 26 28 30 32 34 36 38 "
          ]
        }
      ]
    },
    {
      "cell_type": "code",
      "source": [
        "#03_wholesome_machine\n",
        "\n",
        "\n",
        "\"\"\"Problem Statement\n",
        "Write a program which prompts the user to type an affirmation of your choice (we'll use \"I am capable of doing anything I put my mind to.\") until they type it correctly. Sometimes, especially in the midst of such uncertain times, we just need to be reminded that we are resilient, capable, and strong; this little Python program may be able to help!\n",
        "\n",
        "Here's a sample run of the program (user input is in blue):\n",
        "\n",
        "Please type the following affirmation: I am capable of doing anything I put my mind to. Hmmm That was not the affirmation. Please type the following affirmation: I am capable of doing anything I put my mind to. I am capable of doing anything I put my mind to. That's right! :)\n",
        "\n",
        "Note that you can call input() with no prompt and it will still wait for a user to type something \"\"\"\n",
        "\n",
        "def main():\n",
        "    affirmation = \"I am capable of doing anything I put my mind to.\"\n",
        "\n",
        "    print(\"Please type the following affirmation:\")\n",
        "    while True:\n",
        "        user_input = input()\n",
        "        if user_input == affirmation:\n",
        "            print(\"That's right! :)\")\n",
        "            break\n",
        "        else:\n",
        "            print(\"Hmmm That was not the affirmation.\")\n",
        "            print(\"Please type the following affirmation:\")\n",
        "\n",
        "if __name__ == '__main__':\n",
        "    main()\n",
        "\n",
        "\n"
      ],
      "metadata": {
        "colab": {
          "base_uri": "https://localhost:8080/"
        },
        "id": "PXjdgTm4yDpq",
        "outputId": "6fb1214b-eee9-4143-b612-350d7f502f45"
      },
      "execution_count": null,
      "outputs": [
        {
          "output_type": "stream",
          "name": "stdout",
          "text": [
            "Please type the following affirmation:\n",
            "gggg\n",
            "Hmmm That was not the affirmation.\n",
            "Please type the following affirmation:\n",
            "i am fine\n",
            "Hmmm That was not the affirmation.\n",
            "Please type the following affirmation:\n",
            "I am capable of doing anything I put my mind to.\n",
            "That's right! :)\n"
          ]
        }
      ]
    },
    {
      "cell_type": "code",
      "source": [
        "#04_liftoff\n",
        "\n",
        "\"\"\" Problem Statement\n",
        "Write a program that prints out the calls for a spaceship that is about to launch. Countdown from 10 to 1 and then output Liftoff!\n",
        "\n",
        "Here's a sample run of the program:\n",
        "\n",
        "10 9 8 7 6 5 4 3 2 1 Liftoff!\n",
        "\n",
        "There are many ways to solve this problem. One approach is to use a for loop, and to use the for loop variable i. Recall that i will keep track of how many times the for loop has completed executing its body. As an example this code:\n",
        "\n",
        "for i in range(10): print(i)\n",
        "\n",
        "Will print out the values 0, 1, 2, 3, 4, 5, 6, 7, 8, 9. The values printed in liftoff are 10 minus the number of times the for loop has completed.\n",
        "\n",
        "Starter Code\"\"\"\n",
        "\n",
        "\n",
        "\n",
        "def main():\n",
        "    for i in range(10, 0, -1):  # 10 se 1 tak reverse loop\n",
        "        print(i, end=' ')  # space ke saath number print hoga\n",
        "    print(\"Liftoff!\")  # loop ke baad ye print hoga\n",
        "\n",
        "if __name__ == '__main__':\n",
        "    main()\n"
      ],
      "metadata": {
        "colab": {
          "base_uri": "https://localhost:8080/"
        },
        "id": "0F94Cpuuyhc7",
        "outputId": "76e767d1-34dc-4b54-870d-88ff3b770e1d"
      },
      "execution_count": null,
      "outputs": [
        {
          "output_type": "stream",
          "name": "stdout",
          "text": [
            "10 9 8 7 6 5 4 3 2 1 Liftoff!\n"
          ]
        }
      ]
    },
    {
      "cell_type": "code",
      "source": [
        "#05_double_it\n",
        "\n",
        "\"\"\"Problem Statement\n",
        "Write a program that asks a user to enter a number. Your program will then double that number and print out the result. It will repeat that process until the value is 100 or greater.\n",
        "\n",
        "For example if the user enters the number 2 you would then print:\n",
        "\n",
        "4 8 16 32 64 128\n",
        "\n",
        "Note that:\n",
        "\n",
        "2 doubled is 4\n",
        "\n",
        "4 doubled is 8\n",
        "\n",
        "8 doubled is 16\n",
        "\n",
        "and so on.\n",
        "\n",
        "We stop at 128 because that value is greater than 100.\n",
        "\n",
        "Maintain the current number in a variable named curr_value. When you double the number, you should be updating curr_value. Recall that you can double the value of curr_value using a line like:\n",
        "\n",
        "curr_value = curr_value * 2\n",
        "\n",
        "This program should have a while loop and the while loop condition should test if curr_value is less than 100. Thus, your program will have the line:\n",
        "\n",
        "while curr_value < 100:\n",
        "\n",
        "Starter Code\n",
        "def main():\n",
        "    print(\"Delete this line and write your code here! :)\")\n",
        "\n",
        "\n",
        "# This provided line is required at the end of\n",
        "# Python file to call the main() function.\n",
        "if __name__ == '__main__':\n",
        "    main() \"\"\"\n",
        "\n",
        "def main():\n",
        "    curr_value = int(input(\"Enter a number: \"))\n",
        "\n",
        "    while curr_value < 100:\n",
        "        curr_value = curr_value * 3\n",
        "        print(curr_value)\n",
        "# yahan tabel parh raha ha 3 sy mtlb 3*3=6*3=18 ....\n",
        "\n",
        "if __name__ == '__main__':\n",
        "    main()\n",
        "\n",
        "\n",
        "\n",
        "\n",
        "\n",
        "\n",
        "\n"
      ],
      "metadata": {
        "colab": {
          "base_uri": "https://localhost:8080/"
        },
        "id": "I2Qgd6aR0Faj",
        "outputId": "0bcd044f-9bfc-451e-87b6-e1c067759d3f"
      },
      "execution_count": null,
      "outputs": [
        {
          "output_type": "stream",
          "name": "stdout",
          "text": [
            "Enter a number: 2\n",
            "6\n",
            "18\n",
            "54\n",
            "162\n"
          ]
        }
      ]
    }
  ]
}